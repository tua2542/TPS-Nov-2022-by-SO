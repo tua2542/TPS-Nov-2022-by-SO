{
 "cells": [
  {
   "cell_type": "markdown",
   "id": "9775b590",
   "metadata": {
    "papermill": {
     "duration": 0.019078,
     "end_time": "2022-11-08T07:04:47.702043",
     "exception": false,
     "start_time": "2022-11-08T07:04:47.682965",
     "status": "completed"
    },
    "tags": []
   },
   "source": [
    "# Author \n",
    "\n",
    "Sakdipat Ontoum\n",
    "\n",
    "https://www.linkedin.com/in/sakdipat-ontoum-256bb0209/"
   ]
  },
  {
   "cell_type": "markdown",
   "id": "976e6c74",
   "metadata": {
    "papermill": {
     "duration": 0.009758,
     "end_time": "2022-11-08T07:04:47.723917",
     "exception": false,
     "start_time": "2022-11-08T07:04:47.714159",
     "status": "completed"
    },
    "tags": []
   },
   "source": [
    "# Introduction\n",
    "# Objective\n",
    "# Approach\n",
    "# Dataset\n",
    "# Performance Measure\n",
    "\n",
    " "
   ]
  },
  {
   "cell_type": "markdown",
   "id": "756b13d0",
   "metadata": {
    "papermill": {
     "duration": 0.00858,
     "end_time": "2022-11-08T07:04:47.740009",
     "exception": false,
     "start_time": "2022-11-08T07:04:47.731429",
     "status": "completed"
    },
    "tags": []
   },
   "source": [
    "# 1. Configurations\n",
    "\n",
    "## 1.1 Install and Imports Library\n",
    "\n",
    "All the install library go here. "
   ]
  },
  {
   "cell_type": "code",
   "execution_count": 1,
   "id": "ed71bc6f",
   "metadata": {
    "_cell_guid": "b1076dfc-b9ad-4769-8c92-a6c4dae69d19",
    "_uuid": "8f2839f25d086af736a60e9eeb907d3b93b6e0e5",
    "execution": {
     "iopub.execute_input": "2022-11-08T07:04:47.760482Z",
     "iopub.status.busy": "2022-11-08T07:04:47.759834Z",
     "iopub.status.idle": "2022-11-08T07:04:51.153859Z",
     "shell.execute_reply": "2022-11-08T07:04:51.152765Z"
    },
    "papermill": {
     "duration": 3.408464,
     "end_time": "2022-11-08T07:04:51.157133",
     "exception": false,
     "start_time": "2022-11-08T07:04:47.748669",
     "status": "completed"
    },
    "tags": []
   },
   "outputs": [
    {
     "data": {
      "text/html": [
       "<style type='text/css'>\n",
       ".datatable table.frame { margin-bottom: 0; }\n",
       ".datatable table.frame thead { border-bottom: none; }\n",
       ".datatable table.frame tr.coltypes td {  color: #FFFFFF;  line-height: 6px;  padding: 0 0.5em;}\n",
       ".datatable .bool    { background: #DDDD99; }\n",
       ".datatable .object  { background: #565656; }\n",
       ".datatable .int     { background: #5D9E5D; }\n",
       ".datatable .float   { background: #4040CC; }\n",
       ".datatable .str     { background: #CC4040; }\n",
       ".datatable .time    { background: #40CC40; }\n",
       ".datatable .row_index {  background: var(--jp-border-color3);  border-right: 1px solid var(--jp-border-color0);  color: var(--jp-ui-font-color3);  font-size: 9px;}\n",
       ".datatable .frame tbody td { text-align: left; }\n",
       ".datatable .frame tr.coltypes .row_index {  background: var(--jp-border-color0);}\n",
       ".datatable th:nth-child(2) { padding-left: 12px; }\n",
       ".datatable .hellipsis {  color: var(--jp-cell-editor-border-color);}\n",
       ".datatable .vellipsis {  background: var(--jp-layout-color0);  color: var(--jp-cell-editor-border-color);}\n",
       ".datatable .na {  color: var(--jp-cell-editor-border-color);  font-size: 80%;}\n",
       ".datatable .sp {  opacity: 0.25;}\n",
       ".datatable .footer { font-size: 9px; }\n",
       ".datatable .frame_dimensions {  background: var(--jp-border-color3);  border-top: 1px solid var(--jp-border-color0);  color: var(--jp-ui-font-color3);  display: inline-block;  opacity: 0.6;  padding: 1px 10px 1px 5px;}\n",
       "</style>\n"
      ],
      "text/plain": [
       "<IPython.core.display.HTML object>"
      ]
     },
     "metadata": {},
     "output_type": "display_data"
    }
   ],
   "source": [
    "import pandas as pd\n",
    "import numpy as np\n",
    "import matplotlib.pyplot as plt\n",
    "import seaborn as sns\n",
    "import gc\n",
    "import warnings\n",
    "import datetime as dt\n",
    "import math\n",
    "from tqdm.auto import tqdm\n",
    "import glob\n",
    "import optuna\n",
    "\n",
    "from scipy.stats.mstats import gmean\n",
    "from scipy.stats import hmean\n",
    "\n",
    "\n",
    "from sklearn.discriminant_analysis import QuadraticDiscriminantAnalysis\n",
    "from sklearn.discriminant_analysis import LinearDiscriminantAnalysis\n",
    "from sklearn.naive_bayes import GaussianNB\n",
    "from sklearn.calibration import CalibratedClassifierCV\n",
    "from sklearn.model_selection import StratifiedKFold\n",
    "from sklearn.feature_selection import VarianceThreshold\n",
    "from sklearn.metrics import roc_auc_score\n",
    "from sklearn.metrics import accuracy_score\n",
    "from sklearn.metrics import log_loss\n",
    "\n",
    "\n",
    "from sklearn.linear_model import LogisticRegression\n",
    "import lightgbm as lgb\n",
    "\n",
    "from sklearn.model_selection import StratifiedKFold\n",
    "from sklearn.metrics import roc_auc_score\n",
    "from sklearn.metrics import accuracy_score\n",
    "from sklearn.metrics import log_loss\n",
    "\n",
    "from scipy.stats import spearmanr\n",
    "\n",
    "np.random.seed(0)\n",
    "warnings.simplefilter(\"ignore\")\n"
   ]
  },
  {
   "cell_type": "markdown",
   "id": "cbf4ca39",
   "metadata": {
    "papermill": {
     "duration": 0.006773,
     "end_time": "2022-11-08T07:04:51.171152",
     "exception": false,
     "start_time": "2022-11-08T07:04:51.164379",
     "status": "completed"
    },
    "tags": []
   },
   "source": [
    "## 1.2 Global Settings\n",
    "\n",
    "There variables will be used across the project."
   ]
  },
  {
   "cell_type": "code",
   "execution_count": 2,
   "id": "54d32e59",
   "metadata": {
    "execution": {
     "iopub.execute_input": "2022-11-08T07:04:51.187362Z",
     "iopub.status.busy": "2022-11-08T07:04:51.187029Z",
     "iopub.status.idle": "2022-11-08T07:04:51.191921Z",
     "shell.execute_reply": "2022-11-08T07:04:51.190755Z"
    },
    "papermill": {
     "duration": 0.016963,
     "end_time": "2022-11-08T07:04:51.194844",
     "exception": false,
     "start_time": "2022-11-08T07:04:51.177881",
     "status": "completed"
    },
    "tags": []
   },
   "outputs": [],
   "source": [
    "VAR_TH = 1.0e-03\n",
    "PSEUDO_NFOLDS = 5\n",
    "PSEUDO_TH = 0.95\n",
    "CLIP = True\n",
    "VAR_SMOOTHING = 1818"
   ]
  },
  {
   "cell_type": "markdown",
   "id": "f58465b6",
   "metadata": {
    "papermill": {
     "duration": 0.006136,
     "end_time": "2022-11-08T07:04:51.207308",
     "exception": false,
     "start_time": "2022-11-08T07:04:51.201172",
     "status": "completed"
    },
    "tags": []
   },
   "source": [
    "# 2. Data Preprocessing"
   ]
  },
  {
   "cell_type": "markdown",
   "id": "345766ea",
   "metadata": {
    "papermill": {
     "duration": 0.005678,
     "end_time": "2022-11-08T07:04:51.219062",
     "exception": false,
     "start_time": "2022-11-08T07:04:51.213384",
     "status": "completed"
    },
    "tags": []
   },
   "source": [
    "## 2.1 Data Manipulation"
   ]
  },
  {
   "cell_type": "code",
   "execution_count": 3,
   "id": "486b2233",
   "metadata": {
    "execution": {
     "iopub.execute_input": "2022-11-08T07:04:51.232761Z",
     "iopub.status.busy": "2022-11-08T07:04:51.231833Z",
     "iopub.status.idle": "2022-11-08T07:05:04.186373Z",
     "shell.execute_reply": "2022-11-08T07:05:04.185403Z"
    },
    "papermill": {
     "duration": 12.964025,
     "end_time": "2022-11-08T07:05:04.189158",
     "exception": false,
     "start_time": "2022-11-08T07:04:51.225133",
     "status": "completed"
    },
    "tags": []
   },
   "outputs": [],
   "source": [
    "dataset = pd.read_feather('../input/tps2022novfeather/train.ftr')\n",
    "label = pd.read_csv(\"../input/tabular-playground-series-nov-2022/train_labels.csv\")\n"
   ]
  },
  {
   "cell_type": "code",
   "execution_count": 4,
   "id": "176008f1",
   "metadata": {
    "execution": {
     "iopub.execute_input": "2022-11-08T07:05:04.208184Z",
     "iopub.status.busy": "2022-11-08T07:05:04.207583Z",
     "iopub.status.idle": "2022-11-08T07:05:04.404861Z",
     "shell.execute_reply": "2022-11-08T07:05:04.403776Z"
    },
    "papermill": {
     "duration": 0.209974,
     "end_time": "2022-11-08T07:05:04.407810",
     "exception": false,
     "start_time": "2022-11-08T07:05:04.197836",
     "status": "completed"
    },
    "tags": []
   },
   "outputs": [
    {
     "data": {
      "text/html": [
       "<div>\n",
       "<style scoped>\n",
       "    .dataframe tbody tr th:only-of-type {\n",
       "        vertical-align: middle;\n",
       "    }\n",
       "\n",
       "    .dataframe tbody tr th {\n",
       "        vertical-align: top;\n",
       "    }\n",
       "\n",
       "    .dataframe thead th {\n",
       "        text-align: right;\n",
       "    }\n",
       "</style>\n",
       "<table border=\"1\" class=\"dataframe\">\n",
       "  <thead>\n",
       "    <tr style=\"text-align: right;\">\n",
       "      <th></th>\n",
       "      <th>sub_0</th>\n",
       "      <th>sub_1</th>\n",
       "      <th>sub_2</th>\n",
       "      <th>sub_3</th>\n",
       "      <th>sub_4</th>\n",
       "      <th>sub_5</th>\n",
       "      <th>sub_6</th>\n",
       "      <th>sub_7</th>\n",
       "      <th>sub_8</th>\n",
       "      <th>sub_9</th>\n",
       "      <th>...</th>\n",
       "      <th>sub_4990</th>\n",
       "      <th>sub_4991</th>\n",
       "      <th>sub_4992</th>\n",
       "      <th>sub_4993</th>\n",
       "      <th>sub_4994</th>\n",
       "      <th>sub_4995</th>\n",
       "      <th>sub_4996</th>\n",
       "      <th>sub_4997</th>\n",
       "      <th>sub_4998</th>\n",
       "      <th>sub_4999</th>\n",
       "    </tr>\n",
       "  </thead>\n",
       "  <tbody>\n",
       "    <tr>\n",
       "      <th>0</th>\n",
       "      <td>0.709336</td>\n",
       "      <td>0.799007</td>\n",
       "      <td>0.851891</td>\n",
       "      <td>0.537158</td>\n",
       "      <td>0.623930</td>\n",
       "      <td>0.705970</td>\n",
       "      <td>0.503437</td>\n",
       "      <td>0.633185</td>\n",
       "      <td>0.641550</td>\n",
       "      <td>0.666604</td>\n",
       "      <td>...</td>\n",
       "      <td>0.769207</td>\n",
       "      <td>0.750250</td>\n",
       "      <td>0.663370</td>\n",
       "      <td>0.739333</td>\n",
       "      <td>0.822384</td>\n",
       "      <td>0.749498</td>\n",
       "      <td>0.729800</td>\n",
       "      <td>0.867847</td>\n",
       "      <td>0.745888</td>\n",
       "      <td>0.787</td>\n",
       "    </tr>\n",
       "    <tr>\n",
       "      <th>1</th>\n",
       "      <td>0.452988</td>\n",
       "      <td>0.364453</td>\n",
       "      <td>0.567582</td>\n",
       "      <td>0.354468</td>\n",
       "      <td>0.513818</td>\n",
       "      <td>0.584119</td>\n",
       "      <td>0.454809</td>\n",
       "      <td>0.238501</td>\n",
       "      <td>0.472171</td>\n",
       "      <td>0.522314</td>\n",
       "      <td>...</td>\n",
       "      <td>0.640052</td>\n",
       "      <td>0.794052</td>\n",
       "      <td>0.721298</td>\n",
       "      <td>0.804369</td>\n",
       "      <td>0.620626</td>\n",
       "      <td>0.733606</td>\n",
       "      <td>0.816942</td>\n",
       "      <td>0.814229</td>\n",
       "      <td>0.598331</td>\n",
       "      <td>0.547</td>\n",
       "    </tr>\n",
       "    <tr>\n",
       "      <th>2</th>\n",
       "      <td>0.675462</td>\n",
       "      <td>0.842260</td>\n",
       "      <td>0.800013</td>\n",
       "      <td>0.525229</td>\n",
       "      <td>0.692071</td>\n",
       "      <td>0.715418</td>\n",
       "      <td>0.651008</td>\n",
       "      <td>0.609124</td>\n",
       "      <td>0.691198</td>\n",
       "      <td>0.609994</td>\n",
       "      <td>...</td>\n",
       "      <td>0.812841</td>\n",
       "      <td>0.779859</td>\n",
       "      <td>0.865657</td>\n",
       "      <td>0.828493</td>\n",
       "      <td>0.763010</td>\n",
       "      <td>0.802883</td>\n",
       "      <td>0.806891</td>\n",
       "      <td>0.896058</td>\n",
       "      <td>0.855776</td>\n",
       "      <td>0.667</td>\n",
       "    </tr>\n",
       "    <tr>\n",
       "      <th>3</th>\n",
       "      <td>0.481046</td>\n",
       "      <td>0.577118</td>\n",
       "      <td>0.683032</td>\n",
       "      <td>0.541356</td>\n",
       "      <td>0.630088</td>\n",
       "      <td>0.664514</td>\n",
       "      <td>0.413373</td>\n",
       "      <td>0.508210</td>\n",
       "      <td>0.526140</td>\n",
       "      <td>0.584565</td>\n",
       "      <td>...</td>\n",
       "      <td>0.824703</td>\n",
       "      <td>0.799698</td>\n",
       "      <td>0.800130</td>\n",
       "      <td>0.716604</td>\n",
       "      <td>0.603779</td>\n",
       "      <td>0.708499</td>\n",
       "      <td>0.844837</td>\n",
       "      <td>0.853057</td>\n",
       "      <td>0.850657</td>\n",
       "      <td>0.622</td>\n",
       "    </tr>\n",
       "    <tr>\n",
       "      <th>4</th>\n",
       "      <td>0.957339</td>\n",
       "      <td>0.910337</td>\n",
       "      <td>0.917322</td>\n",
       "      <td>0.874487</td>\n",
       "      <td>0.787595</td>\n",
       "      <td>0.854273</td>\n",
       "      <td>0.843846</td>\n",
       "      <td>0.876749</td>\n",
       "      <td>0.821128</td>\n",
       "      <td>0.913054</td>\n",
       "      <td>...</td>\n",
       "      <td>0.934803</td>\n",
       "      <td>0.900150</td>\n",
       "      <td>0.960911</td>\n",
       "      <td>0.906037</td>\n",
       "      <td>0.961240</td>\n",
       "      <td>0.935608</td>\n",
       "      <td>0.889757</td>\n",
       "      <td>0.978505</td>\n",
       "      <td>0.953681</td>\n",
       "      <td>0.934</td>\n",
       "    </tr>\n",
       "  </tbody>\n",
       "</table>\n",
       "<p>5 rows × 5000 columns</p>\n",
       "</div>"
      ],
      "text/plain": [
       "      sub_0     sub_1     sub_2     sub_3     sub_4     sub_5     sub_6  \\\n",
       "0  0.709336  0.799007  0.851891  0.537158  0.623930  0.705970  0.503437   \n",
       "1  0.452988  0.364453  0.567582  0.354468  0.513818  0.584119  0.454809   \n",
       "2  0.675462  0.842260  0.800013  0.525229  0.692071  0.715418  0.651008   \n",
       "3  0.481046  0.577118  0.683032  0.541356  0.630088  0.664514  0.413373   \n",
       "4  0.957339  0.910337  0.917322  0.874487  0.787595  0.854273  0.843846   \n",
       "\n",
       "      sub_7     sub_8     sub_9  ...  sub_4990  sub_4991  sub_4992  sub_4993  \\\n",
       "0  0.633185  0.641550  0.666604  ...  0.769207  0.750250  0.663370  0.739333   \n",
       "1  0.238501  0.472171  0.522314  ...  0.640052  0.794052  0.721298  0.804369   \n",
       "2  0.609124  0.691198  0.609994  ...  0.812841  0.779859  0.865657  0.828493   \n",
       "3  0.508210  0.526140  0.584565  ...  0.824703  0.799698  0.800130  0.716604   \n",
       "4  0.876749  0.821128  0.913054  ...  0.934803  0.900150  0.960911  0.906037   \n",
       "\n",
       "   sub_4994  sub_4995  sub_4996  sub_4997  sub_4998  sub_4999  \n",
       "0  0.822384  0.749498  0.729800  0.867847  0.745888     0.787  \n",
       "1  0.620626  0.733606  0.816942  0.814229  0.598331     0.547  \n",
       "2  0.763010  0.802883  0.806891  0.896058  0.855776     0.667  \n",
       "3  0.603779  0.708499  0.844837  0.853057  0.850657     0.622  \n",
       "4  0.961240  0.935608  0.889757  0.978505  0.953681     0.934  \n",
       "\n",
       "[5 rows x 5000 columns]"
      ]
     },
     "metadata": {},
     "output_type": "display_data"
    }
   ],
   "source": [
    "train_set = dataset.loc[:19999, :]\n",
    "test_set = dataset.loc[20000:, :]\n",
    "\n",
    "del dataset\n",
    "gc.collect()\n",
    "\n",
    "display(train_set.head())"
   ]
  },
  {
   "cell_type": "code",
   "execution_count": 5,
   "id": "44786885",
   "metadata": {
    "execution": {
     "iopub.execute_input": "2022-11-08T07:05:04.429032Z",
     "iopub.status.busy": "2022-11-08T07:05:04.428685Z",
     "iopub.status.idle": "2022-11-08T07:05:04.433997Z",
     "shell.execute_reply": "2022-11-08T07:05:04.433069Z"
    },
    "papermill": {
     "duration": 0.022003,
     "end_time": "2022-11-08T07:05:04.439481",
     "exception": false,
     "start_time": "2022-11-08T07:05:04.417478",
     "status": "completed"
    },
    "tags": []
   },
   "outputs": [
    {
     "name": "stdout",
     "output_type": "stream",
     "text": [
      "train shape: (20000, 5000)\n",
      "test shape: (20000, 5000)\n"
     ]
    }
   ],
   "source": [
    "print(\"train shape:\", train_set.shape)\n",
    "print(\"test shape:\", test_set.shape)"
   ]
  },
  {
   "cell_type": "code",
   "execution_count": 6,
   "id": "f095af7d",
   "metadata": {
    "execution": {
     "iopub.execute_input": "2022-11-08T07:05:04.461337Z",
     "iopub.status.busy": "2022-11-08T07:05:04.461011Z",
     "iopub.status.idle": "2022-11-08T07:05:05.046304Z",
     "shell.execute_reply": "2022-11-08T07:05:05.045342Z"
    },
    "papermill": {
     "duration": 0.600212,
     "end_time": "2022-11-08T07:05:05.049029",
     "exception": false,
     "start_time": "2022-11-08T07:05:04.448817",
     "status": "completed"
    },
    "tags": []
   },
   "outputs": [
    {
     "name": "stdout",
     "output_type": "stream",
     "text": [
      "train nan value sum: 0\n",
      "test nan value sum: 0\n"
     ]
    }
   ],
   "source": [
    "print(\"train nan value sum:\", train_set.isna().sum().sum())\n",
    "print(\"test nan value sum:\", test_set.isna().sum().sum())"
   ]
  },
  {
   "cell_type": "code",
   "execution_count": 7,
   "id": "abffacfc",
   "metadata": {
    "execution": {
     "iopub.execute_input": "2022-11-08T07:05:05.070807Z",
     "iopub.status.busy": "2022-11-08T07:05:05.070436Z",
     "iopub.status.idle": "2022-11-08T07:05:21.338349Z",
     "shell.execute_reply": "2022-11-08T07:05:21.336980Z"
    },
    "papermill": {
     "duration": 16.281878,
     "end_time": "2022-11-08T07:05:21.341274",
     "exception": false,
     "start_time": "2022-11-08T07:05:05.059396",
     "status": "completed"
    },
    "tags": []
   },
   "outputs": [
    {
     "name": "stdout",
     "output_type": "stream",
     "text": [
      "train dublicated value sum: 0\n",
      "test dublicated value sum: 0\n"
     ]
    }
   ],
   "source": [
    "print(\"train dublicated value sum:\", train_set.duplicated().sum().sum())\n",
    "print(\"test dublicated value sum:\", test_set.duplicated().sum().sum())"
   ]
  },
  {
   "cell_type": "markdown",
   "id": "8f1d5e31",
   "metadata": {
    "papermill": {
     "duration": 0.006413,
     "end_time": "2022-11-08T07:05:21.354912",
     "exception": false,
     "start_time": "2022-11-08T07:05:21.348499",
     "status": "completed"
    },
    "tags": []
   },
   "source": [
    "## 2.2 Preprocesses"
   ]
  },
  {
   "cell_type": "code",
   "execution_count": 8,
   "id": "e89eaa5e",
   "metadata": {
    "execution": {
     "iopub.execute_input": "2022-11-08T07:05:21.369475Z",
     "iopub.status.busy": "2022-11-08T07:05:21.369185Z",
     "iopub.status.idle": "2022-11-08T07:05:24.321617Z",
     "shell.execute_reply": "2022-11-08T07:05:24.320577Z"
    },
    "papermill": {
     "duration": 2.96244,
     "end_time": "2022-11-08T07:05:24.323896",
     "exception": false,
     "start_time": "2022-11-08T07:05:21.361456",
     "status": "completed"
    },
    "tags": []
   },
   "outputs": [
    {
     "data": {
      "text/plain": [
       "sub_1825    4.930627e-32\n",
       "sub_2356    1.000000e+00\n",
       "sub_4963    1.000000e+00\n",
       "sub_1691    1.000000e+00\n",
       "sub_1685    1.000000e+00\n",
       "                ...     \n",
       "sub_3226    1.000000e+00\n",
       "sub_2618    1.000000e+00\n",
       "sub_684     1.000000e+00\n",
       "sub_1148    1.000000e+00\n",
       "sub_1824             NaN\n",
       "Length: 5000, dtype: float64"
      ]
     },
     "execution_count": 8,
     "metadata": {},
     "output_type": "execute_result"
    }
   ],
   "source": [
    "normalized_train_set = (train_set - train_set.mean()) / train_set.std()\n",
    "normalized_train_set.var().sort_values()"
   ]
  },
  {
   "cell_type": "code",
   "execution_count": 9,
   "id": "b2e870fd",
   "metadata": {
    "execution": {
     "iopub.execute_input": "2022-11-08T07:05:24.338804Z",
     "iopub.status.busy": "2022-11-08T07:05:24.338494Z",
     "iopub.status.idle": "2022-11-08T07:05:24.346375Z",
     "shell.execute_reply": "2022-11-08T07:05:24.345152Z"
    },
    "papermill": {
     "duration": 0.017574,
     "end_time": "2022-11-08T07:05:24.348721",
     "exception": false,
     "start_time": "2022-11-08T07:05:24.331147",
     "status": "completed"
    },
    "tags": []
   },
   "outputs": [
    {
     "name": "stdout",
     "output_type": "stream",
     "text": [
      "train sub_1824 unique : [0.491104]\n",
      "test sub_1824 unique : [0.491104]\n",
      "train sub_1825 unique : [0.51]\n",
      "test sub_1825 unique : [0.51]\n"
     ]
    }
   ],
   "source": [
    "for feature in [\"sub_1824\", \"sub_1825\"]:\n",
    "    print(f\"train {feature} unique : {train_set[feature].unique()}\")\n",
    "    print(f\"test {feature} unique : {test_set[feature].unique()}\")"
   ]
  },
  {
   "cell_type": "code",
   "execution_count": 10,
   "id": "312c3e24",
   "metadata": {
    "execution": {
     "iopub.execute_input": "2022-11-08T07:05:24.363382Z",
     "iopub.status.busy": "2022-11-08T07:05:24.363109Z",
     "iopub.status.idle": "2022-11-08T07:05:24.922213Z",
     "shell.execute_reply": "2022-11-08T07:05:24.921152Z"
    },
    "papermill": {
     "duration": 0.569134,
     "end_time": "2022-11-08T07:05:24.924774",
     "exception": false,
     "start_time": "2022-11-08T07:05:24.355640",
     "status": "completed"
    },
    "tags": []
   },
   "outputs": [
    {
     "data": {
      "text/plain": [
       "(1.356611, -0.336521)"
      ]
     },
     "execution_count": 10,
     "metadata": {},
     "output_type": "execute_result"
    }
   ],
   "source": [
    "train_set.max().max(), train_set.min().min()"
   ]
  },
  {
   "cell_type": "code",
   "execution_count": 11,
   "id": "c666e397",
   "metadata": {
    "execution": {
     "iopub.execute_input": "2022-11-08T07:05:24.941585Z",
     "iopub.status.busy": "2022-11-08T07:05:24.941272Z",
     "iopub.status.idle": "2022-11-08T07:05:28.183920Z",
     "shell.execute_reply": "2022-11-08T07:05:28.182387Z"
    },
    "papermill": {
     "duration": 3.254696,
     "end_time": "2022-11-08T07:05:28.187257",
     "exception": false,
     "start_time": "2022-11-08T07:05:24.932561",
     "status": "completed"
    },
    "tags": []
   },
   "outputs": [
    {
     "name": "stdout",
     "output_type": "stream",
     "text": [
      "1.356611 -0.336521\n"
     ]
    }
   ],
   "source": [
    "if CLIP:\n",
    "    train = train_set.clip(0,1)\n",
    "    test = test_set.clip(0,1)\n",
    "    print(train_set.max().max(), train_set.min().min())"
   ]
  },
  {
   "cell_type": "markdown",
   "id": "f94e9914",
   "metadata": {
    "papermill": {
     "duration": 0.0069,
     "end_time": "2022-11-08T07:05:28.202670",
     "exception": false,
     "start_time": "2022-11-08T07:05:28.195770",
     "status": "completed"
    },
    "tags": []
   },
   "source": [
    "## Adding Pseudo Labels"
   ]
  },
  {
   "cell_type": "code",
   "execution_count": 12,
   "id": "0064630d",
   "metadata": {
    "execution": {
     "iopub.execute_input": "2022-11-08T07:05:28.218116Z",
     "iopub.status.busy": "2022-11-08T07:05:28.217813Z",
     "iopub.status.idle": "2022-11-08T07:05:28.228564Z",
     "shell.execute_reply": "2022-11-08T07:05:28.227709Z"
    },
    "papermill": {
     "duration": 0.021005,
     "end_time": "2022-11-08T07:05:28.230589",
     "exception": false,
     "start_time": "2022-11-08T07:05:28.209584",
     "status": "completed"
    },
    "tags": []
   },
   "outputs": [],
   "source": [
    "def get_pseudo_data():\n",
    "    skf = StratifiedKFold(n_splits=PSEUDO_NFOLDS, random_state=0, shuffle=True)\n",
    "    oof = np.zeros(train_set.shape[0])\n",
    "    test_preds = np.zeros(test_set.shape[0])\n",
    "    for train_index, val_index in skf.split(train_set, label[\"label\"]):\n",
    "        X_train, X_val = train_set.loc[train_index,:], train_set.loc[val_index,:]\n",
    "        y_train, y_val = label.loc[train_index,\"label\"], label.loc[val_index,\"label\"]\n",
    "\n",
    "        # Drop Low Variances\n",
    "        sel = VarianceThreshold(threshold=VAR_TH)\n",
    "        sel.fit(X_train / X_train.mean())\n",
    "        mask = sel.get_support()\n",
    "\n",
    "        X_train = X_train.loc[:, mask]\n",
    "        X_val = X_val.loc[:, mask]\n",
    "        X_test = test.loc[:, mask]\n",
    "\n",
    "        #model = QuadraticDiscriminantAnalysis(reg_param=reg_param)\n",
    "        model = LinearDiscriminantAnalysis()\n",
    "        model.fit(X_train, y_train)\n",
    "        val_pred = model.predict_proba(X_val)[:,1]\n",
    "        test_pred = model.predict_proba(X_test)[:,1]\n",
    "\n",
    "        oof[val_index] = val_pred\n",
    "        test_preds += test_pred\n",
    "\n",
    "        del X_train, X_val, X_test, y_train, y_val, model\n",
    "        gc.collect()\n",
    "    test_preds /= PSEUDO_NFOLDS\n",
    "    return oof, test_preds"
   ]
  },
  {
   "cell_type": "code",
   "execution_count": 13,
   "id": "d8913124",
   "metadata": {
    "execution": {
     "iopub.execute_input": "2022-11-08T07:05:28.246065Z",
     "iopub.status.busy": "2022-11-08T07:05:28.245228Z",
     "iopub.status.idle": "2022-11-08T07:19:34.648135Z",
     "shell.execute_reply": "2022-11-08T07:19:34.647028Z"
    },
    "papermill": {
     "duration": 846.414051,
     "end_time": "2022-11-08T07:19:34.651259",
     "exception": false,
     "start_time": "2022-11-08T07:05:28.237208",
     "status": "completed"
    },
    "tags": []
   },
   "outputs": [],
   "source": [
    "val_preds, test_preds = get_pseudo_data()"
   ]
  },
  {
   "cell_type": "code",
   "execution_count": 14,
   "id": "08c1fc0f",
   "metadata": {
    "execution": {
     "iopub.execute_input": "2022-11-08T07:19:34.667539Z",
     "iopub.status.busy": "2022-11-08T07:19:34.667226Z",
     "iopub.status.idle": "2022-11-08T07:19:35.302622Z",
     "shell.execute_reply": "2022-11-08T07:19:35.301734Z"
    },
    "papermill": {
     "duration": 0.64586,
     "end_time": "2022-11-08T07:19:35.304731",
     "exception": false,
     "start_time": "2022-11-08T07:19:34.658871",
     "status": "completed"
    },
    "tags": []
   },
   "outputs": [
    {
     "name": "stdout",
     "output_type": "stream",
     "text": [
      "score=0.9107966396774316\n"
     ]
    },
    {
     "data": {
      "image/png": "[encoded data removed]",
      "text/plain": [
       "<Figure size 1152x288 with 2 Axes>"
      ]
     },
     "metadata": {
      "needs_background": "light"
     },
     "output_type": "display_data"
    }
   ],
   "source": [
    "## LinearDiscriminantAnalysis()\n",
    "print(f\"score={log_loss(label['label'], val_preds)}\")\n",
    "fig, axes = plt.subplots(1, 2, figsize=(16,4))\n",
    "axes[0].hist(val_preds, bins=100);\n",
    "axes[1].hist(test_preds, bins=100);\n",
    "plt.show()"
   ]
  },
  {
   "cell_type": "code",
   "execution_count": 15,
   "id": "a3d8fd29",
   "metadata": {
    "execution": {
     "iopub.execute_input": "2022-11-08T07:19:35.320276Z",
     "iopub.status.busy": "2022-11-08T07:19:35.319981Z",
     "iopub.status.idle": "2022-11-08T07:19:36.367609Z",
     "shell.execute_reply": "2022-11-08T07:19:36.366593Z"
    },
    "papermill": {
     "duration": 1.057773,
     "end_time": "2022-11-08T07:19:36.369716",
     "exception": false,
     "start_time": "2022-11-08T07:19:35.311943",
     "status": "completed"
    },
    "tags": []
   },
   "outputs": [
    {
     "name": "stdout",
     "output_type": "stream",
     "text": [
      "proba_th: 0.977\n"
     ]
    },
    {
     "data": {
      "image/png": "[encoded data removed]",
      "text/plain": [
       "<Figure size 1152x288 with 3 Axes>"
      ]
     },
     "metadata": {
      "needs_background": "light"
     },
     "output_type": "display_data"
    }
   ],
   "source": [
    "th_list = np.linspace(0.9, 1, 100, endpoint=False)\n",
    "scores_roc, score_log, score_acc = [], [], []\n",
    "proba_th, max_score = 0, 0\n",
    "for th in th_list:\n",
    "    condition = ((val_preds >= th) | (val_preds <= 1-th))\n",
    "    new_val_preds = val_preds[condition]\n",
    "    new_val_true = label.loc[condition, 'label']\n",
    "    score = roc_auc_score(new_val_true, new_val_preds)\n",
    "    scores_roc.append(score)\n",
    "    if score > max_score:\n",
    "        max_score = score\n",
    "        proba_th = th\n",
    "    score = log_loss(new_val_true, new_val_preds)\n",
    "    score_log.append(score)\n",
    "    score = accuracy_score(new_val_true, new_val_preds.round().astype(int))\n",
    "    score_acc.append(score)\n",
    "print(\"proba_th:\", proba_th)\n",
    "fig, axes = plt.subplots(3, figsize=(16,4))\n",
    "axes[0].plot(th_list, scores_roc);\n",
    "axes[0].axvline(proba_th, color='r')\n",
    "axes[1].plot(th_list, score_log);\n",
    "axes[1].axvline(proba_th, color='r')\n",
    "axes[2].plot(th_list, score_acc);\n",
    "axes[2].axvline(proba_th, color='r');"
   ]
  },
  {
   "cell_type": "code",
   "execution_count": 16,
   "id": "d9640388",
   "metadata": {
    "execution": {
     "iopub.execute_input": "2022-11-08T07:19:36.388378Z",
     "iopub.status.busy": "2022-11-08T07:19:36.386816Z",
     "iopub.status.idle": "2022-11-08T07:19:37.308547Z",
     "shell.execute_reply": "2022-11-08T07:19:37.307548Z"
    },
    "papermill": {
     "duration": 0.933318,
     "end_time": "2022-11-08T07:19:37.311129",
     "exception": false,
     "start_time": "2022-11-08T07:19:36.377811",
     "status": "completed"
    },
    "tags": []
   },
   "outputs": [],
   "source": [
    "condition = ((test_preds >= proba_th) | (test_preds <= 1-proba_th))\n",
    "train_pseudo = test.loc[condition, :]\n",
    "train_pseudo['label'] = test_preds[condition].round().astype(int)\n",
    "train_pseudo.reset_index(inplace=True, drop=True)\n",
    "train_pseudo.to_feather(\"train_pseudo.ftr\")"
   ]
  },
  {
   "cell_type": "code",
   "execution_count": 17,
   "id": "3d67223e",
   "metadata": {
    "execution": {
     "iopub.execute_input": "2022-11-08T07:19:37.327794Z",
     "iopub.status.busy": "2022-11-08T07:19:37.327462Z",
     "iopub.status.idle": "2022-11-08T07:19:37.352209Z",
     "shell.execute_reply": "2022-11-08T07:19:37.351102Z"
    },
    "papermill": {
     "duration": 0.035467,
     "end_time": "2022-11-08T07:19:37.354312",
     "exception": false,
     "start_time": "2022-11-08T07:19:37.318845",
     "status": "completed"
    },
    "tags": []
   },
   "outputs": [
    {
     "name": "stdout",
     "output_type": "stream",
     "text": [
      "train_pseudo.shape: (3081, 5001)\n"
     ]
    },
    {
     "data": {
      "text/html": [
       "<div>\n",
       "<style scoped>\n",
       "    .dataframe tbody tr th:only-of-type {\n",
       "        vertical-align: middle;\n",
       "    }\n",
       "\n",
       "    .dataframe tbody tr th {\n",
       "        vertical-align: top;\n",
       "    }\n",
       "\n",
       "    .dataframe thead th {\n",
       "        text-align: right;\n",
       "    }\n",
       "</style>\n",
       "<table border=\"1\" class=\"dataframe\">\n",
       "  <thead>\n",
       "    <tr style=\"text-align: right;\">\n",
       "      <th></th>\n",
       "      <th>sub_0</th>\n",
       "      <th>sub_1</th>\n",
       "      <th>sub_2</th>\n",
       "      <th>sub_3</th>\n",
       "      <th>sub_4</th>\n",
       "      <th>sub_5</th>\n",
       "      <th>sub_6</th>\n",
       "      <th>sub_7</th>\n",
       "      <th>sub_8</th>\n",
       "      <th>sub_9</th>\n",
       "      <th>...</th>\n",
       "      <th>sub_4991</th>\n",
       "      <th>sub_4992</th>\n",
       "      <th>sub_4993</th>\n",
       "      <th>sub_4994</th>\n",
       "      <th>sub_4995</th>\n",
       "      <th>sub_4996</th>\n",
       "      <th>sub_4997</th>\n",
       "      <th>sub_4998</th>\n",
       "      <th>sub_4999</th>\n",
       "      <th>label</th>\n",
       "    </tr>\n",
       "  </thead>\n",
       "  <tbody>\n",
       "    <tr>\n",
       "      <th>0</th>\n",
       "      <td>0.447720</td>\n",
       "      <td>0.493394</td>\n",
       "      <td>0.541299</td>\n",
       "      <td>0.349989</td>\n",
       "      <td>0.477218</td>\n",
       "      <td>0.522883</td>\n",
       "      <td>0.514082</td>\n",
       "      <td>0.271122</td>\n",
       "      <td>0.437997</td>\n",
       "      <td>0.455650</td>\n",
       "      <td>...</td>\n",
       "      <td>0.756972</td>\n",
       "      <td>0.755393</td>\n",
       "      <td>0.763183</td>\n",
       "      <td>0.560058</td>\n",
       "      <td>0.731504</td>\n",
       "      <td>0.753920</td>\n",
       "      <td>0.698108</td>\n",
       "      <td>0.637011</td>\n",
       "      <td>0.608</td>\n",
       "      <td>0</td>\n",
       "    </tr>\n",
       "    <tr>\n",
       "      <th>1</th>\n",
       "      <td>0.671001</td>\n",
       "      <td>0.286648</td>\n",
       "      <td>0.246030</td>\n",
       "      <td>0.249671</td>\n",
       "      <td>0.599813</td>\n",
       "      <td>0.524274</td>\n",
       "      <td>0.349856</td>\n",
       "      <td>0.162366</td>\n",
       "      <td>0.546364</td>\n",
       "      <td>0.564960</td>\n",
       "      <td>...</td>\n",
       "      <td>0.621725</td>\n",
       "      <td>0.607564</td>\n",
       "      <td>0.716344</td>\n",
       "      <td>0.613170</td>\n",
       "      <td>0.681448</td>\n",
       "      <td>0.618902</td>\n",
       "      <td>0.456893</td>\n",
       "      <td>0.739265</td>\n",
       "      <td>0.351</td>\n",
       "      <td>0</td>\n",
       "    </tr>\n",
       "    <tr>\n",
       "      <th>2</th>\n",
       "      <td>0.399667</td>\n",
       "      <td>0.380014</td>\n",
       "      <td>0.535959</td>\n",
       "      <td>0.369481</td>\n",
       "      <td>0.390388</td>\n",
       "      <td>0.583791</td>\n",
       "      <td>0.883501</td>\n",
       "      <td>0.477537</td>\n",
       "      <td>0.507778</td>\n",
       "      <td>0.463148</td>\n",
       "      <td>...</td>\n",
       "      <td>0.794201</td>\n",
       "      <td>0.777806</td>\n",
       "      <td>0.736699</td>\n",
       "      <td>0.638330</td>\n",
       "      <td>0.640740</td>\n",
       "      <td>0.840357</td>\n",
       "      <td>0.649423</td>\n",
       "      <td>0.727617</td>\n",
       "      <td>0.581</td>\n",
       "      <td>0</td>\n",
       "    </tr>\n",
       "    <tr>\n",
       "      <th>3</th>\n",
       "      <td>0.783023</td>\n",
       "      <td>0.865336</td>\n",
       "      <td>0.982309</td>\n",
       "      <td>0.473000</td>\n",
       "      <td>0.736678</td>\n",
       "      <td>0.822831</td>\n",
       "      <td>0.890783</td>\n",
       "      <td>0.758128</td>\n",
       "      <td>0.656984</td>\n",
       "      <td>0.810206</td>\n",
       "      <td>...</td>\n",
       "      <td>0.877493</td>\n",
       "      <td>0.863662</td>\n",
       "      <td>0.822511</td>\n",
       "      <td>0.918650</td>\n",
       "      <td>0.781209</td>\n",
       "      <td>0.844733</td>\n",
       "      <td>0.919300</td>\n",
       "      <td>0.826778</td>\n",
       "      <td>0.807</td>\n",
       "      <td>1</td>\n",
       "    </tr>\n",
       "    <tr>\n",
       "      <th>4</th>\n",
       "      <td>0.918708</td>\n",
       "      <td>0.969526</td>\n",
       "      <td>0.994842</td>\n",
       "      <td>0.941859</td>\n",
       "      <td>0.803327</td>\n",
       "      <td>0.874479</td>\n",
       "      <td>0.934235</td>\n",
       "      <td>0.921584</td>\n",
       "      <td>0.822495</td>\n",
       "      <td>0.957115</td>\n",
       "      <td>...</td>\n",
       "      <td>0.903667</td>\n",
       "      <td>0.981070</td>\n",
       "      <td>0.970359</td>\n",
       "      <td>0.976426</td>\n",
       "      <td>0.984603</td>\n",
       "      <td>0.872210</td>\n",
       "      <td>0.980073</td>\n",
       "      <td>0.920242</td>\n",
       "      <td>0.683</td>\n",
       "      <td>1</td>\n",
       "    </tr>\n",
       "  </tbody>\n",
       "</table>\n",
       "<p>5 rows × 5001 columns</p>\n",
       "</div>"
      ],
      "text/plain": [
       "      sub_0     sub_1     sub_2     sub_3     sub_4     sub_5     sub_6  \\\n",
       "0  0.447720  0.493394  0.541299  0.349989  0.477218  0.522883  0.514082   \n",
       "1  0.671001  0.286648  0.246030  0.249671  0.599813  0.524274  0.349856   \n",
       "2  0.399667  0.380014  0.535959  0.369481  0.390388  0.583791  0.883501   \n",
       "3  0.783023  0.865336  0.982309  0.473000  0.736678  0.822831  0.890783   \n",
       "4  0.918708  0.969526  0.994842  0.941859  0.803327  0.874479  0.934235   \n",
       "\n",
       "      sub_7     sub_8     sub_9  ...  sub_4991  sub_4992  sub_4993  sub_4994  \\\n",
       "0  0.271122  0.437997  0.455650  ...  0.756972  0.755393  0.763183  0.560058   \n",
       "1  0.162366  0.546364  0.564960  ...  0.621725  0.607564  0.716344  0.613170   \n",
       "2  0.477537  0.507778  0.463148  ...  0.794201  0.777806  0.736699  0.638330   \n",
       "3  0.758128  0.656984  0.810206  ...  0.877493  0.863662  0.822511  0.918650   \n",
       "4  0.921584  0.822495  0.957115  ...  0.903667  0.981070  0.970359  0.976426   \n",
       "\n",
       "   sub_4995  sub_4996  sub_4997  sub_4998  sub_4999  label  \n",
       "0  0.731504  0.753920  0.698108  0.637011     0.608      0  \n",
       "1  0.681448  0.618902  0.456893  0.739265     0.351      0  \n",
       "2  0.640740  0.840357  0.649423  0.727617     0.581      0  \n",
       "3  0.781209  0.844733  0.919300  0.826778     0.807      1  \n",
       "4  0.984603  0.872210  0.980073  0.920242     0.683      1  \n",
       "\n",
       "[5 rows x 5001 columns]"
      ]
     },
     "execution_count": 17,
     "metadata": {},
     "output_type": "execute_result"
    }
   ],
   "source": [
    "print(\"train_pseudo.shape:\", train_pseudo.shape)\n",
    "train_pseudo.head()"
   ]
  },
  {
   "cell_type": "markdown",
   "id": "e281b0de",
   "metadata": {
    "papermill": {
     "duration": 0.008479,
     "end_time": "2022-11-08T07:19:37.372009",
     "exception": false,
     "start_time": "2022-11-08T07:19:37.363530",
     "status": "completed"
    },
    "tags": []
   },
   "source": [
    "# 3. Model Creation"
   ]
  },
  {
   "cell_type": "code",
   "execution_count": 18,
   "id": "2dc8dd8b",
   "metadata": {
    "execution": {
     "iopub.execute_input": "2022-11-08T07:19:37.389837Z",
     "iopub.status.busy": "2022-11-08T07:19:37.389065Z",
     "iopub.status.idle": "2022-11-08T07:19:37.397644Z",
     "shell.execute_reply": "2022-11-08T07:19:37.396798Z"
    },
    "papermill": {
     "duration": 0.019433,
     "end_time": "2022-11-08T07:19:37.399563",
     "exception": false,
     "start_time": "2022-11-08T07:19:37.380130",
     "status": "completed"
    },
    "tags": []
   },
   "outputs": [],
   "source": [
    "def get_lgbm_preds(X, y, X_test, nfold=5, params_lgb={}):\n",
    "    skf = StratifiedKFold(n_splits=nfold, random_state=0, shuffle=True)\n",
    "    oof = np.zeros(X.shape[0])\n",
    "    test_preds = np.zeros(X_test.shape[0])\n",
    "    for fold, (train_index, val_index) in enumerate(skf.split(X, y)):\n",
    "        print(\"\\nFold {}\".format(fold+1))\n",
    "        dtrain = lgb.Dataset(X.loc[train_index,:], y.loc[train_index,:])\n",
    "        dval = lgb.Dataset(X.loc[val_index,:], y.loc[val_index,:])\n",
    "        \n",
    "        evals_result = {}\n",
    "        model = lgb.train(params=params_lgb, train_set=dtrain, valid_sets=[dval], num_boost_round=1000, \n",
    "                          early_stopping_rounds=50, verbose_eval=100, evals_result=evals_result)\n",
    "        \n",
    "        val_pred = model.predict(X.loc[val_index,:])\n",
    "        test_pred = model.predict(X_test)\n",
    "\n",
    "        oof[val_index] = val_pred\n",
    "        test_preds += test_pred\n",
    "\n",
    "        del model, dtrain, dval\n",
    "        gc.collect()\n",
    "    test_preds /= nfold\n",
    "    return oof, test_preds"
   ]
  },
  {
   "cell_type": "code",
   "execution_count": 19,
   "id": "7ae3d61d",
   "metadata": {
    "execution": {
     "iopub.execute_input": "2022-11-08T07:19:37.417226Z",
     "iopub.status.busy": "2022-11-08T07:19:37.416365Z",
     "iopub.status.idle": "2022-11-08T07:19:37.511998Z",
     "shell.execute_reply": "2022-11-08T07:19:37.510984Z"
    },
    "papermill": {
     "duration": 0.106925,
     "end_time": "2022-11-08T07:19:37.514448",
     "exception": false,
     "start_time": "2022-11-08T07:19:37.407523",
     "status": "completed"
    },
    "tags": []
   },
   "outputs": [],
   "source": [
    "X = train_pseudo.drop(\"label\", axis=1).reset_index(drop=True)\n",
    "y = train_pseudo[[\"label\"]].reset_index(drop=True)\n",
    "X_test = test\n",
    "\n",
    "def objective(trial):\n",
    "    params = {\n",
    "        \"objective\": \"binary\",\n",
    "        \"metric\": \"binary_logloss\",\n",
    "        \"learning_rate\": 0.01,\n",
    "        \"max_depth\":6,\n",
    "        'random_state': 42,\n",
    "        \"n_jobs\":-1,\n",
    "        \"seed\":123,\n",
    "        \"verbose\":-1,\n",
    "        \"num_leaves\":trial.suggest_int('num_leaves', 10, 200, step=10),\n",
    "        \"min_data_in_leaf\":trial.suggest_int('min_data_in_leaf', 10, 100, step=10),\n",
    "        'lambda_l1': trial.suggest_float('alpha', 0.0001, 10.0),\n",
    "        'lambda_l2': trial.suggest_float('lambda', 0.0001, 10.0),\n",
    "        'subsample': trial.suggest_float('subsample', 0.2, 1.0, step=0.1),\n",
    "        'feature_fraction': trial.suggest_float('feature_fraction', 0.2, 1.0, step=0.1),\n",
    "    }\n",
    "    \n",
    "    '''\n",
    "    skf = StratifiedKFold(n_splits=5, random_state=0, shuffle=True)\n",
    "    score_list = []\n",
    "    for fold, (train_index, val_index) in enumerate(skf.split(X, y)):\n",
    "        dtrain = lgb.Dataset(X.loc[train_index,:], y.loc[train_index,:])\n",
    "        dval = lgb.Dataset(X.loc[val_index,:], y.loc[val_index,:])\n",
    "        \n",
    "        evals_result = {}\n",
    "        model = lgb.train(params=params, train_set=dtrain, valid_sets=[dval], num_boost_round=1000, \n",
    "                          early_stopping_rounds=10, verbose_eval=0, evals_result=evals_result)\n",
    "        score = evals_result['valid_0'][\"binary_logloss\"][model.num_trees()-1]\n",
    "        score_list.append(score)\n",
    "\n",
    "        del model, dtrain, dval\n",
    "        gc.collect()\n",
    "    '''\n",
    "    \n",
    "    skf = StratifiedKFold(n_splits=5, random_state=0, shuffle=True)\n",
    "    trainlist, validlist = [], []\n",
    "    for train_index, val_index in skf.split(X, y):\n",
    "        trainlist.append(train_index)\n",
    "        validlist.append(val_index)\n",
    "    folds = zip(trainlist, validlist)\n",
    "    \n",
    "    dataset = lgb.Dataset(X, y)\n",
    "    res = lgb.cv(\n",
    "        params, dataset, num_boost_round=1000, verbose_eval=0,\n",
    "        early_stopping_rounds=10,\n",
    "        folds=folds,\n",
    "        stratified=False,\n",
    "    )\n",
    "    \n",
    "    return res[\"binary_logloss-mean\"][-1] + res[\"binary_logloss-stdv\"][-1]"
   ]
  },
  {
   "cell_type": "code",
   "execution_count": 20,
   "id": "ff13ac6a",
   "metadata": {
    "execution": {
     "iopub.execute_input": "2022-11-08T07:19:37.532990Z",
     "iopub.status.busy": "2022-11-08T07:19:37.532676Z",
     "iopub.status.idle": "2022-11-08T07:23:41.540504Z",
     "shell.execute_reply": "2022-11-08T07:23:41.539074Z"
    },
    "papermill": {
     "duration": 244.0206,
     "end_time": "2022-11-08T07:23:41.543968",
     "exception": false,
     "start_time": "2022-11-08T07:19:37.523368",
     "status": "completed"
    },
    "tags": []
   },
   "outputs": [
    {
     "name": "stdout",
     "output_type": "stream",
     "text": [
      "\n",
      "Fold 1\n",
      "[LightGBM] [Warning] seed is set=123, random_state=42 will be ignored. Current value: seed=123\n",
      "Training until validation scores don't improve for 50 rounds\n",
      "[100]\tvalid_0's binary_logloss: 0.273349\n",
      "[200]\tvalid_0's binary_logloss: 0.166249\n",
      "[300]\tvalid_0's binary_logloss: 0.135544\n",
      "[400]\tvalid_0's binary_logloss: 0.127629\n",
      "[500]\tvalid_0's binary_logloss: 0.127726\n",
      "Early stopping, best iteration is:\n",
      "[459]\tvalid_0's binary_logloss: 0.127111\n",
      "\n",
      "Fold 2\n",
      "[LightGBM] [Warning] seed is set=123, random_state=42 will be ignored. Current value: seed=123\n",
      "Training until validation scores don't improve for 50 rounds\n",
      "[100]\tvalid_0's binary_logloss: 0.269463\n",
      "[200]\tvalid_0's binary_logloss: 0.158095\n",
      "[300]\tvalid_0's binary_logloss: 0.124689\n",
      "[400]\tvalid_0's binary_logloss: 0.117039\n",
      "Early stopping, best iteration is:\n",
      "[419]\tvalid_0's binary_logloss: 0.116638\n",
      "\n",
      "Fold 3\n",
      "[LightGBM] [Warning] seed is set=123, random_state=42 will be ignored. Current value: seed=123\n",
      "Training until validation scores don't improve for 50 rounds\n",
      "[100]\tvalid_0's binary_logloss: 0.2893\n",
      "[200]\tvalid_0's binary_logloss: 0.190061\n",
      "[300]\tvalid_0's binary_logloss: 0.163228\n",
      "[400]\tvalid_0's binary_logloss: 0.15906\n",
      "Early stopping, best iteration is:\n",
      "[376]\tvalid_0's binary_logloss: 0.158849\n",
      "\n",
      "Fold 4\n",
      "[LightGBM] [Warning] seed is set=123, random_state=42 will be ignored. Current value: seed=123\n",
      "Training until validation scores don't improve for 50 rounds\n",
      "[100]\tvalid_0's binary_logloss: 0.279841\n",
      "[200]\tvalid_0's binary_logloss: 0.175716\n",
      "[300]\tvalid_0's binary_logloss: 0.144417\n",
      "[400]\tvalid_0's binary_logloss: 0.136091\n",
      "Early stopping, best iteration is:\n",
      "[428]\tvalid_0's binary_logloss: 0.13556\n",
      "\n",
      "Fold 5\n",
      "[LightGBM] [Warning] seed is set=123, random_state=42 will be ignored. Current value: seed=123\n",
      "Training until validation scores don't improve for 50 rounds\n",
      "[100]\tvalid_0's binary_logloss: 0.285726\n",
      "[200]\tvalid_0's binary_logloss: 0.182447\n",
      "[300]\tvalid_0's binary_logloss: 0.153711\n",
      "[400]\tvalid_0's binary_logloss: 0.14832\n",
      "Early stopping, best iteration is:\n",
      "[403]\tvalid_0's binary_logloss: 0.14816\n"
     ]
    }
   ],
   "source": [
    "X = train_pseudo.drop(\"label\", axis=1).reset_index(drop=True)\n",
    "y = train_pseudo[[\"label\"]].reset_index(drop=True)\n",
    "X_test = test\n",
    "\n",
    "params_lgb = {\n",
    "    \"objective\": \"binary\",\n",
    "    \"metric\": \"binary_logloss\",\n",
    "    \"learning_rate\": 0.01,\n",
    "    \"max_depth\":6,\n",
    "    'random_state': 42,\n",
    "    \"n_jobs\":-1,\n",
    "    \"seed\":123,\n",
    "    \"verbose\":-1,\n",
    "    'num_leaves': 160, \n",
    "    'min_data_in_leaf': 10, \n",
    "    'alpha': 0.5091797271529079, \n",
    "    'lambda': 0.35380392843435005, \n",
    "    'subsample': 0.9000000000000001, \n",
    "    'feature_fraction': 0.4\n",
    "}\n",
    "\n",
    "val_preds, test_preds = get_lgbm_preds(X, y, X_test, nfold=5, params_lgb=params_lgb)"
   ]
  },
  {
   "cell_type": "markdown",
   "id": "df7607cd",
   "metadata": {
    "papermill": {
     "duration": 0.019462,
     "end_time": "2022-11-08T07:23:41.589092",
     "exception": false,
     "start_time": "2022-11-08T07:23:41.569630",
     "status": "completed"
    },
    "tags": []
   },
   "source": [
    "# 4. Evaluation "
   ]
  },
  {
   "cell_type": "code",
   "execution_count": 21,
   "id": "746abab9",
   "metadata": {
    "execution": {
     "iopub.execute_input": "2022-11-08T07:23:41.622524Z",
     "iopub.status.busy": "2022-11-08T07:23:41.622028Z",
     "iopub.status.idle": "2022-11-08T07:23:42.290635Z",
     "shell.execute_reply": "2022-11-08T07:23:42.289711Z"
    },
    "papermill": {
     "duration": 0.687795,
     "end_time": "2022-11-08T07:23:42.292982",
     "exception": false,
     "start_time": "2022-11-08T07:23:41.605187",
     "status": "completed"
    },
    "tags": []
   },
   "outputs": [
    {
     "name": "stdout",
     "output_type": "stream",
     "text": [
      "score=0.13726023678532925\n"
     ]
    },
    {
     "data": {
      "image/png": "[encoded data removed]",
      "text/plain": [
       "<Figure size 1152x288 with 2 Axes>"
      ]
     },
     "metadata": {
      "needs_background": "light"
     },
     "output_type": "display_data"
    }
   ],
   "source": [
    "print(f\"score={log_loss(y, val_preds)}\")\n",
    "fig, axes = plt.subplots(1, 2, figsize=(16,4))\n",
    "axes[0].hist(val_preds, bins=100);\n",
    "axes[1].hist(test_preds, bins=100);\n",
    "plt.show()"
   ]
  },
  {
   "cell_type": "code",
   "execution_count": 22,
   "id": "ec43e216",
   "metadata": {
    "execution": {
     "iopub.execute_input": "2022-11-08T07:23:42.315146Z",
     "iopub.status.busy": "2022-11-08T07:23:42.314844Z",
     "iopub.status.idle": "2022-11-08T07:23:42.386659Z",
     "shell.execute_reply": "2022-11-08T07:23:42.385664Z"
    },
    "papermill": {
     "duration": 0.085687,
     "end_time": "2022-11-08T07:23:42.389201",
     "exception": false,
     "start_time": "2022-11-08T07:23:42.303514",
     "status": "completed"
    },
    "tags": []
   },
   "outputs": [],
   "source": [
    "sub = pd.read_csv('../input/tabular-playground-series-nov-2022/sample_submission.csv')\n",
    "sub[\"pred\"] = test_preds\n",
    "sub.to_csv(\"sub_lgbm_pseudo.csv\", index=False)"
   ]
  },
  {
   "cell_type": "markdown",
   "id": "50330f55",
   "metadata": {
    "papermill": {
     "duration": 0.010811,
     "end_time": "2022-11-08T07:23:42.411471",
     "exception": false,
     "start_time": "2022-11-08T07:23:42.400660",
     "status": "completed"
    },
    "tags": []
   },
   "source": [
    "# Reference\n",
    "\n",
    "https://www.kaggle.com/code/hasanbasriakcay/tpsnov22-pseudo-labels-modeling-lb-0-514\n"
   ]
  },
  {
   "cell_type": "markdown",
   "id": "28d271bf",
   "metadata": {
    "papermill": {
     "duration": 0.010944,
     "end_time": "2022-11-08T07:23:42.433088",
     "exception": false,
     "start_time": "2022-11-08T07:23:42.422144",
     "status": "completed"
    },
    "tags": []
   },
   "source": [
    "# Thank you 😆😆\n",
    "\n"
   ]
  }
 ],
 "metadata": {
  "kernelspec": {
   "display_name": "Python 3",
   "language": "python",
   "name": "python3"
  },
  "language_info": {
   "codemirror_mode": {
    "name": "ipython",
    "version": 3
   },
   "file_extension": ".py",
   "mimetype": "text/x-python",
   "name": "python",
   "nbconvert_exporter": "python",
   "pygments_lexer": "ipython3",
   "version": "3.7.12"
  },
  "papermill": {
   "default_parameters": {},
   "duration": 1144.911572,
   "end_time": "2022-11-08T07:23:43.968600",
   "environment_variables": {},
   "exception": null,
   "input_path": "__notebook__.ipynb",
   "output_path": "__notebook__.ipynb",
   "parameters": {},
   "start_time": "2022-11-08T07:04:39.057028",
   "version": "2.3.4"
  }
 },
 "nbformat": 4,
 "nbformat_minor": 5
}
