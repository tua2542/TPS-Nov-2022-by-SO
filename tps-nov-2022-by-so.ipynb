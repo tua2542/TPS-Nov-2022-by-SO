{
 "cells": [
  {
   "cell_type": "markdown",
   "id": "b0aac742",
   "metadata": {
    "papermill": {
     "duration": 0.003778,
     "end_time": "2022-11-08T03:14:33.175931",
     "exception": false,
     "start_time": "2022-11-08T03:14:33.172153",
     "status": "completed"
    },
    "tags": []
   },
   "source": [
    "# Author \n",
    "\n",
    "Sakdipat Ontoum\n",
    "\n",
    "https://www.linkedin.com/in/sakdipat-ontoum-256bb0209/"
   ]
  },
  {
   "cell_type": "markdown",
   "id": "6c707e94",
   "metadata": {
    "papermill": {
     "duration": 0.002346,
     "end_time": "2022-11-08T03:14:33.181228",
     "exception": false,
     "start_time": "2022-11-08T03:14:33.178882",
     "status": "completed"
    },
    "tags": []
   },
   "source": [
    "# Introduction\n",
    "# Objective\n",
    "# Approach\n",
    "# Dataset\n",
    "# Performance Measure\n",
    "\n",
    " "
   ]
  },
  {
   "cell_type": "markdown",
   "id": "8b44ff3c",
   "metadata": {
    "papermill": {
     "duration": 0.002269,
     "end_time": "2022-11-08T03:14:33.186068",
     "exception": false,
     "start_time": "2022-11-08T03:14:33.183799",
     "status": "completed"
    },
    "tags": []
   },
   "source": [
    "# 1. Configurations\n",
    "\n",
    "## 1.1 Install and Imports Library\n",
    "\n",
    "All the install library go here. "
   ]
  },
  {
   "cell_type": "code",
   "execution_count": null,
   "id": "f3428d33",
   "metadata": {
    "_cell_guid": "b1076dfc-b9ad-4769-8c92-a6c4dae69d19",
    "_uuid": "8f2839f25d086af736a60e9eeb907d3b93b6e0e5",
    "execution": {
     "iopub.execute_input": "2022-10-06T02:31:14.426817Z",
     "iopub.status.busy": "2022-10-06T02:31:14.4264Z",
     "iopub.status.idle": "2022-10-06T02:31:16.715114Z",
     "shell.execute_reply": "2022-10-06T02:31:16.713756Z",
     "shell.execute_reply.started": "2022-10-06T02:31:14.426742Z"
    },
    "papermill": {
     "duration": 0.002283,
     "end_time": "2022-11-08T03:14:33.190889",
     "exception": false,
     "start_time": "2022-11-08T03:14:33.188606",
     "status": "completed"
    },
    "tags": []
   },
   "outputs": [],
   "source": []
  },
  {
   "cell_type": "markdown",
   "id": "f021b653",
   "metadata": {
    "papermill": {
     "duration": 0.00234,
     "end_time": "2022-11-08T03:14:33.195747",
     "exception": false,
     "start_time": "2022-11-08T03:14:33.193407",
     "status": "completed"
    },
    "tags": []
   },
   "source": [
    "## 1.2 Global Settings\n",
    "\n",
    "There variables will be used across the project."
   ]
  },
  {
   "cell_type": "markdown",
   "id": "549d87c8",
   "metadata": {
    "papermill": {
     "duration": 0.002268,
     "end_time": "2022-11-08T03:14:33.200516",
     "exception": false,
     "start_time": "2022-11-08T03:14:33.198248",
     "status": "completed"
    },
    "tags": []
   },
   "source": [
    "# 2. Data Preprocessing"
   ]
  },
  {
   "cell_type": "markdown",
   "id": "0ab42e35",
   "metadata": {
    "papermill": {
     "duration": 0.002533,
     "end_time": "2022-11-08T03:14:33.205520",
     "exception": false,
     "start_time": "2022-11-08T03:14:33.202987",
     "status": "completed"
    },
    "tags": []
   },
   "source": [
    "# 3. Model Creation"
   ]
  },
  {
   "cell_type": "markdown",
   "id": "f90502f6",
   "metadata": {
    "papermill": {
     "duration": 0.002292,
     "end_time": "2022-11-08T03:14:33.210334",
     "exception": false,
     "start_time": "2022-11-08T03:14:33.208042",
     "status": "completed"
    },
    "tags": []
   },
   "source": [
    "# 4. Evaluation "
   ]
  },
  {
   "cell_type": "markdown",
   "id": "0c9eba09",
   "metadata": {
    "papermill": {
     "duration": 0.002328,
     "end_time": "2022-11-08T03:14:33.215213",
     "exception": false,
     "start_time": "2022-11-08T03:14:33.212885",
     "status": "completed"
    },
    "tags": []
   },
   "source": [
    "# Reference\n",
    "\n"
   ]
  },
  {
   "cell_type": "markdown",
   "id": "aa9cb207",
   "metadata": {
    "papermill": {
     "duration": 0.002271,
     "end_time": "2022-11-08T03:14:33.220047",
     "exception": false,
     "start_time": "2022-11-08T03:14:33.217776",
     "status": "completed"
    },
    "tags": []
   },
   "source": [
    "# Thank you 😆😆\n",
    "\n"
   ]
  }
 ],
 "metadata": {
  "kernelspec": {
   "display_name": "Python 3",
   "language": "python",
   "name": "python3"
  },
  "language_info": {
   "codemirror_mode": {
    "name": "ipython",
    "version": 3
   },
   "file_extension": ".py",
   "mimetype": "text/x-python",
   "name": "python",
   "nbconvert_exporter": "python",
   "pygments_lexer": "ipython3",
   "version": "3.7.12"
  },
  "papermill": {
   "default_parameters": {},
   "duration": 9.300231,
   "end_time": "2022-11-08T03:14:33.852197",
   "environment_variables": {},
   "exception": null,
   "input_path": "__notebook__.ipynb",
   "output_path": "__notebook__.ipynb",
   "parameters": {},
   "start_time": "2022-11-08T03:14:24.551966",
   "version": "2.3.4"
  }
 },
 "nbformat": 4,
 "nbformat_minor": 5
}
